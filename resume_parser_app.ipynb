{
 "cells": [
  {
   "cell_type": "code",
   "execution_count": 2,
   "metadata": {},
   "outputs": [
    {
     "name": "stderr",
     "output_type": "stream",
     "text": [
      "[nltk_data] Downloading package stopwords to\n",
      "[nltk_data]     C:\\Users\\anshu\\AppData\\Roaming\\nltk_data...\n",
      "[nltk_data]   Package stopwords is already up-to-date!\n"
     ]
    },
    {
     "data": {
      "text/plain": [
       "True"
      ]
     },
     "execution_count": 2,
     "metadata": {},
     "output_type": "execute_result"
    }
   ],
   "source": [
    "\n",
    "import streamlit as st\n",
    "import pandas as pd\n",
    "import base64,random\n",
    "import time,datetime\n",
    "#libraries to parse the resume pdf files\n",
    "from pyresparser import ResumeParser\n",
    "from pdfminer3.layout import LAParams, LTTextBox\n",
    "from pdfminer3.pdfpage import PDFPage\n",
    "from pdfminer3.pdfinterp import PDFResourceManager\n",
    "from pdfminer3.pdfinterp import PDFPageInterpreter\n",
    "from pdfminer3.converter import TextConverter\n",
    "import io,random\n",
    "from streamlit_tags import st_tags\n",
    "from PIL import Image\n",
    "\n",
    "from Courses import ds_course,web_course,android_course,ios_course,uiux_course,resume_videos,interview_videos\n",
    "# import pafy #for uploading youtube videos\n",
    "import plotly.express as px #to create visualisations at the admin session\n",
    "import nltk\n",
    "nltk.download('stopwords')"
   ]
  },
  {
   "cell_type": "code",
   "execution_count": 3,
   "metadata": {},
   "outputs": [],
   "source": [
    "def fetch_yt_video(link):\n",
    "    video = pafy.new(link)\n",
    "    return video.title"
   ]
  },
  {
   "cell_type": "code",
   "execution_count": 4,
   "metadata": {},
   "outputs": [],
   "source": [
    "def get_table_download_link(df,filename,text):\n",
    "    \"\"\"Generates a link allowing the data in a given panda dataframe to be downloaded\n",
    "    in:  dataframe\n",
    "    out: href string\n",
    "    \"\"\"\n",
    "    csv = df.to_csv(index=False)\n",
    "    b64 = base64.b64encode(csv.encode()).decode()  # some strings <-> bytes conversions necessary here\n",
    "    # href = f'<a href=\"data:file/csv;base64,{b64}\">Download Report</a>'\n",
    "    href = f'<a href=\"data:file/csv;base64,{b64}\" download=\"{filename}\">{text}</a>'\n",
    "    return href"
   ]
  },
  {
   "cell_type": "code",
   "execution_count": 9,
   "metadata": {},
   "outputs": [
    {
     "name": "stderr",
     "output_type": "stream",
     "text": [
      "2024-02-13 20:21:31.982 \n",
      "  \u001b[33m\u001b[1mWarning:\u001b[0m to view this Streamlit app on a browser, run it with the following\n",
      "  command:\n",
      "\n",
      "    streamlit run C:\\Users\\anshu\\AppData\\Roaming\\Python\\Python312\\site-packages\\ipykernel_launcher.py [ARGUMENTS]\n"
     ]
    },
    {
     "name": "stdout",
     "output_type": "stream",
     "text": [
      "<PDFPage: Resources={'ColorSpace': {'CS0': <PDFObjRef:11>}, 'ExtGState': {'GS0': <PDFObjRef:24>, 'GS1': <PDFObjRef:25>}, 'Font': {'C2_0': <PDFObjRef:14>, 'T1_0': <PDFObjRef:15>, 'TT0': <PDFObjRef:16>}, 'ProcSet': [/'PDF', /'Text']}, MediaBox=[0.0, 0.0, 612.0, 792.0]>\n",
      "art director & graphic designer\n",
      "\n",
      "experience\n",
      "\n",
      "brokaw  •  art director  •  1/18–present\n",
      "Collaborate to develop unexpected, strategy-based creative  \n",
      "campaigns from start to finish. Accountable for a variety of print  \n",
      "& digital collateral and social content. Direct photo and video \n",
      "shoots to support campaigns. Drink a lot of the world’s worst \n",
      "coffee and Great Lakes beer.\n",
      "\n",
      "contact\n",
      "\n",
      "hello@allisonbeer.com \n",
      "216.212.2327 \n",
      "behance.net/allisonbeer\n",
      "\n",
      "education\n",
      "\n",
      "marcus thomas  •  art direction intern  •  9/17–12/17\n",
      "Created print and digital assets to support existing campaigns.  \n",
      "Designed app identity for one of the agency’s largest clients.  \n",
      "Assisted on photo and video shoots in in-house production studio \n",
      "(#handmodel). Pet many dogs.\n",
      "\n",
      "miami university  •  2017\n",
      "B.F.A. in Graphic Design. Minors in \n",
      "Interactive Media and Art History. \n",
      "Honors: Summa Cum Laude, Stamps \n",
      "Leadership Scholar, President’s List.\n",
      "\n",
      "punk talks  •  web designer  •  5/17–3/19\n",
      "Maintained punktalks.org. Worked with developer to design  \n",
      "and launch custom Wordpress site. Created graphics for social  \n",
      "and print distribution. Advocated that you don’t have to be sad  \n",
      "to make great music.\n",
      "\n",
      "go media  •  graphic design intern  •  5/16–8/16\n",
      "Worked directly with clients to create brand identities and website \n",
      "layouts. Created print materials for Weapons of Mass Creation Fest.  \n",
      "Made Photoshop mockups from scratch for the Arsenal web store. \n",
      "Mastered the pen tool.\n",
      "\n",
      "recognition\n",
      "adweek  •  9/19\n",
      "Lake View Cemetery 2019 campaign: The 9 billboards.\n",
      "\n",
      "skills\n",
      "\n",
      "adobe creative cloud\n",
      "Photoshop, Illustrator, InDesign, \n",
      "Premiere Pro, After Effects.\n",
      "\n",
      "web development\n",
      "HTML, CSS & SASS, Wordpress.\n",
      "\n",
      "miscellaneous\n",
      "Hand media: letterpress printing. \n",
      "Prototyping: Invision, Axure. \n",
      "\n",
      "\f\n",
      "None\n"
     ]
    }
   ],
   "source": [
    "def pdf_reader(file):\n",
    "    resource_manager = PDFResourceManager()\n",
    "    fake_file_handle = io.StringIO()\n",
    "    converter = TextConverter(resource_manager, fake_file_handle, laparams=LAParams())\n",
    "    page_interpreter = PDFPageInterpreter(resource_manager, converter)\n",
    "    with open(file, 'rb') as fh:\n",
    "        for page in PDFPage.get_pages(fh,\n",
    "                                      caching=True,\n",
    "                                      check_extractable=True):\n",
    "            page_interpreter.process_page(page)\n",
    "            print(page)\n",
    "        text = fake_file_handle.getvalue()\n",
    "\n",
    "    # close open handles\n",
    "    converter.close()\n",
    "    fake_file_handle.close()\n",
    "    return text\n",
    "\n",
    "def show_pdf(file_path):\n",
    "    with open(file_path, \"rb\") as f:\n",
    "        base64_pdf = base64.b64encode(f.read()).decode('utf-8')\n",
    "    # pdf_display = f'<embed src=\"data:application/pdf;base64,{base64_pdf}\" width=\"700\" height=\"1000\" type=\"application/pdf\">'\n",
    "    pdf_display = F'<iframe src=\"data:application/pdf;base64,{base64_pdf}\" width=\"700\" height=\"1000\" type=\"application/pdf\"></iframe>'\n",
    "    st.markdown(pdf_display, unsafe_allow_html=True)\n",
    "\n",
    "a=pdf_reader(r'C:\\Users\\pratistha\\Downloads\\resume-20240212T152443Z-001\\resume\\Uploaded_Resumes\\UIUX_Resume1.pdf')\n",
    "b=show_pdf(r'C:\\Users\\pratistha\\Downloads\\resume-20240212T152443Z-001\\resume\\Uploaded_Resumes\\UIUX_Resume1.pdf')\n",
    "print(a)\n",
    "print(b)"
   ]
  },
  {
   "cell_type": "code",
   "execution_count": 6,
   "metadata": {},
   "outputs": [],
   "source": [
    "def course_recommender(course_list):\n",
    "    st.subheader(\"**Courses & Certificates Recommendations 🎓**\")\n",
    "    c = 0\n",
    "    rec_course = []\n",
    "    no_of_reco = st.slider('Choose Number of Course Recommendations:', 1, 10, 5)\n",
    "    random.shuffle(course_list)\n",
    "    for c_name, c_link in course_list:\n",
    "        c += 1\n",
    "        st.markdown(f\"({c}) [{c_name}]({c_link})\")\n",
    "        rec_course.append(c_name)\n",
    "        if c == no_of_reco:\n",
    "            break\n",
    "    return rec_course"
   ]
  },
  {
   "cell_type": "code",
   "execution_count": null,
   "metadata": {},
   "outputs": [],
   "source": []
  }
 ],
 "metadata": {
  "kernelspec": {
   "display_name": ".venv",
   "language": "python",
   "name": "python3"
  },
  "language_info": {
   "codemirror_mode": {
    "name": "ipython",
    "version": 3
   },
   "file_extension": ".py",
   "mimetype": "text/x-python",
   "name": "python",
   "nbconvert_exporter": "python",
   "pygments_lexer": "ipython3",
   "version": "3.12.0"
  }
 },
 "nbformat": 4,
 "nbformat_minor": 2
}
